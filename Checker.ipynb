{
 "cells": [
  {
   "cell_type": "code",
   "execution_count": 1,
   "metadata": {
    "collapsed": true
   },
   "outputs": [],
   "source": [
    "def checker1(n):\n",
    "    s1 = str(n)\n",
    "    l = len(s1)\n",
    "    if l>=3:\n",
    "        a = int(len(s1)/3)\n",
    "        n1 = int(s1[0:a]) #0,1\n",
    "        n2 = int(s1[a:a+a]) #2,3\n",
    "        n3 = int(s1[a+a:])\n",
    "        if n3 == n1+n2:\n",
    "            return(True)\n",
    "        elif len(s1) == 3:\n",
    "            return(False)\n",
    "        else:\n",
    "            n1 = int(s1[0:a])\n",
    "            n2 = int(s1[a:a+a+1])\n",
    "            n3 = int(s1[a+a+1:])\n",
    "            if n3 == n1+n2:\n",
    "                return(True)\n",
    "            else:\n",
    "                n1 = int(s1[0:a+1])\n",
    "                n2 = int(s1[a+1:a+a+1])\n",
    "                n3 = int(s1[a+a+1:])\n",
    "                if n3 == n1+n2:\n",
    "                    return(True)\n",
    "    return(False)"
   ]
  },
  {
   "cell_type": "code",
   "execution_count": 2,
   "metadata": {},
   "outputs": [
    {
     "data": {
      "text/plain": [
       "True"
      ]
     },
     "execution_count": 2,
     "metadata": {},
     "output_type": "execute_result"
    }
   ],
   "source": [
    "checker1(99101200)"
   ]
  },
  {
   "cell_type": "code",
   "execution_count": null,
   "metadata": {
    "collapsed": true
   },
   "outputs": [],
   "source": []
  }
 ],
 "metadata": {
  "kernelspec": {
   "display_name": "Python 3",
   "language": "python",
   "name": "python3"
  },
  "language_info": {
   "codemirror_mode": {
    "name": "ipython",
    "version": 3
   },
   "file_extension": ".py",
   "mimetype": "text/x-python",
   "name": "python",
   "nbconvert_exporter": "python",
   "pygments_lexer": "ipython3",
   "version": "3.6.6"
  }
 },
 "nbformat": 4,
 "nbformat_minor": 2
}
